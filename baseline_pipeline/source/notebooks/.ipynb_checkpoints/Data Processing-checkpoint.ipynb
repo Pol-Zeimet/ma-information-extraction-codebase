{
 "cells": [
  {
   "cell_type": "code",
   "execution_count": 23,
   "metadata": {},
   "outputs": [],
   "source": [
    "import pandas as pd\n",
    "import glob"
   ]
  },
  {
   "cell_type": "code",
   "execution_count": 24,
   "metadata": {},
   "outputs": [],
   "source": [
    "targets = ['contract_num', 'advertiser', 'flight_from', 'flight_to', 'gross_amount']"
   ]
  },
  {
   "cell_type": "code",
   "execution_count": 35,
   "metadata": {},
   "outputs": [],
   "source": [
    "def printProgressBar (iteration, total, prefix = '', suffix = '', decimals = 1, length = 100, fill = '█', printEnd = \"\\r\"):\n",
    "    \"\"\"\n",
    "    Call in a loop to create terminal progress bar\n",
    "    @params:\n",
    "        iteration   - Required  : current iteration (Int)\n",
    "        total       - Required  : total iterations (Int)\n",
    "        prefix      - Optional  : prefix string (Str)\n",
    "        suffix      - Optional  : suffix string (Str)\n",
    "        decimals    - Optional  : positive number of decimals in percent complete (Int)\n",
    "        length      - Optional  : character length of bar (Int)\n",
    "        fill        - Optional  : bar fill character (Str)\n",
    "        printEnd    - Optional  : end character (e.g. \"\\r\", \"\\r\\n\") (Str)\n",
    "    \"\"\"\n",
    "    percent = (\"{0:.\" + str(decimals) + \"f}\").format(100 * (iteration / float(total)))\n",
    "    filledLength = int(length * iteration // total)\n",
    "    bar = fill * filledLength + '-' * (length - filledLength)\n",
    "    print(f'\\r{prefix} |{bar}| {percent}% {suffix}', end = printEnd)\n",
    "    # Print New Line on Complete\n",
    "    if iteration == total: \n",
    "        print()"
   ]
  },
  {
   "cell_type": "code",
   "execution_count": 74,
   "metadata": {},
   "outputs": [],
   "source": [
    "def label_tokens(df: pd.DataFrame, target_labels):\n",
    "    labels = pd.DataFrame()\n",
    "    df['label'] = '0'\n",
    "    for target_label in target_labels:\n",
    "        label_max = df[target_label].max()\n",
    "        if label_max > 0:\n",
    "            df.at[df[target_label] == label_max ,'label'] = target_label\n",
    "    return df\n",
    "\n",
    "def collect_analytics(df: pd.DataFrame, analytics_df, target_labels, slug):\n",
    "    analytics_dict={}\n",
    "    analytics_dict['name'] = [slug]\n",
    "    analytics_dict['token_count'] = [df.shape[0]]\n",
    "    for target_label in target_labels:\n",
    "        maxval = df[target_label].max() \n",
    "        analytics_dict[target_label + '_maxval'] = [maxval]\n",
    "        analytics_dict[target_label + '_total_count'] = [df[df[target_label] > 0].shape[0]]\n",
    "        analytics_dict[target_label + '_maxval_count'] = [df[(df[target_label] == maxval) & (maxval > 0)].shape[0]]\n",
    "        analytics_dict[target_label + '_100perc_count'] = [df[df[target_label] == 1.0].shape[0]]\n",
    "        analytics_dict[target_label + '_75perc_count'] = [df[df[target_label] >= 0.75].shape[0]]\n",
    "        analytics_dict[target_label + '_50perc_count'] = [df[df[target_label] >= 0.5].shape[0]]\n",
    "        uniques_df = df.copy()\n",
    "        uniques_df  = uniques_df.drop_duplicates(subset=['token', 'label'])\n",
    "        analytics_dict[target_label + '_total_distinct_count'] = [uniques_df[uniques_df[target_label] > 0].shape[0]]\n",
    "        analytics_dict[target_label + '_maxval_distinct_count'] = [uniques_df[(uniques_df[target_label] == maxval) & (maxval > 0)].shape[0]]\n",
    "        analytics_dict[target_label + '_100perc_distinct_count'] = [uniques_df[uniques_df[target_label] == 1.0].shape[0]]\n",
    "        analytics_dict[target_label + '_75perc_distinct_count'] = [uniques_df[uniques_df[target_label] >= 0.75].shape[0]]\n",
    "        analytics_dict[target_label + '_50perc_distinct_count'] = [uniques_df[uniques_df[target_label] >= 0.5].shape[0]               ]\n",
    "    analytics_df = pd.concat([analytics_df, pd.DataFrame(analytics_dict)], ignore_index = True)\n",
    "    return analytics_df\n",
    "\n",
    "def process_files(src, dest, targets):\n",
    "    analytics_df = pd.DataFrame()\n",
    "    i = 0\n",
    "    total = len(glob.glob(src + '*.parquet'))\n",
    "    for filename in glob.glob(src + '*.parquet'):\n",
    "        printProgressBar(i, total)\n",
    "        i = i+1\n",
    "        slug = filename.split('/')[-1].split('.')[0]\n",
    "        df = pd.read_parquet(filename)\n",
    "        df = label_tokens(df, targets)\n",
    "        analytics_df = collect_analytics(df, analytics_df, targets, slug)\n",
    "        df.to_csv(dest + slug + '.tsv', '\\t')\n",
    "    analytics_df.to_csv('../../data/data_analytics.tsv', '\\t')\n",
    "    print('\\r')\n",
    "    print('Processed ' + str(i) + ' out of ' + str(total) + ' files')"
   ]
  },
  {
   "cell_type": "code",
   "execution_count": 75,
   "metadata": {
    "scrolled": false
   },
   "outputs": [
    {
     "name": "stdout",
     "output_type": "stream",
     "text": [
      " |███████████████████████████████████████████████████████████████████████████████████████████████████-| 100.0% \n",
      "Processed 8990 out of 8990 files\n"
     ]
    }
   ],
   "source": [
    "process_files(\"../../thirparty/deepform/data/training/\", \"../../data/training/\", targets)"
   ]
  },
  {
   "cell_type": "code",
   "execution_count": null,
   "metadata": {},
   "outputs": [],
   "source": []
  }
 ],
 "metadata": {
  "kernelspec": {
   "display_name": "Python 3",
   "language": "python",
   "name": "python3"
  },
  "language_info": {
   "codemirror_mode": {
    "name": "ipython",
    "version": 3
   },
   "file_extension": ".py",
   "mimetype": "text/x-python",
   "name": "python",
   "nbconvert_exporter": "python",
   "pygments_lexer": "ipython3",
   "version": "3.7.6rc1"
  }
 },
 "nbformat": 4,
 "nbformat_minor": 4
}
