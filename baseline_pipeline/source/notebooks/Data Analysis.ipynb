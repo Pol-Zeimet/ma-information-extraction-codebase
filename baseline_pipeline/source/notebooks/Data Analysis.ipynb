{
 "cells": [
  {
   "cell_type": "code",
   "execution_count": 1,
   "metadata": {},
   "outputs": [],
   "source": [
    "import pandas as pd\n",
    "import glob\n",
    "import matplotlib.pyplot as plt"
   ]
  },
  {
   "cell_type": "code",
   "execution_count": 2,
   "metadata": {},
   "outputs": [],
   "source": [
    "df = pd.read_csv('../../data/data_analytics.tsv', '\\t')\n",
    "df = df.drop('Unnamed: 0', axis = 1)"
   ]
  },
  {
   "cell_type": "code",
   "execution_count": 3,
   "metadata": {},
   "outputs": [
    {
     "data": {
      "text/plain": [
       "612     16\n",
       "362     15\n",
       "1205    15\n",
       "683     14\n",
       "753     14\n",
       "        ..\n",
       "3930     1\n",
       "1899     1\n",
       "1939     1\n",
       "1963     1\n",
       "2101     1\n",
       "Name: token_count, Length: 2652, dtype: int64"
      ]
     },
     "execution_count": 3,
     "metadata": {},
     "output_type": "execute_result"
    }
   ],
   "source": [
    "df.token_count.value_counts()"
   ]
  },
  {
   "cell_type": "code",
   "execution_count": 8,
   "metadata": {
    "scrolled": false
   },
   "outputs": [
    {
     "data": {
      "text/plain": [
       "(array([1.218e+03, 2.368e+03, 1.937e+03, 1.314e+03, 7.640e+02, 4.560e+02,\n",
       "        3.190e+02, 1.750e+02, 1.320e+02, 1.160e+02, 4.600e+01, 6.100e+01,\n",
       "        2.500e+01, 6.000e+00, 7.000e+00, 9.000e+00, 9.000e+00, 4.000e+00,\n",
       "        5.000e+00, 2.000e+00, 0.000e+00, 1.000e+00, 1.000e+00, 0.000e+00,\n",
       "        3.000e+00, 2.000e+00, 3.000e+00, 0.000e+00, 0.000e+00, 2.000e+00,\n",
       "        0.000e+00, 0.000e+00, 0.000e+00, 1.000e+00, 0.000e+00, 1.000e+00,\n",
       "        0.000e+00, 0.000e+00, 0.000e+00, 1.000e+00, 0.000e+00, 0.000e+00,\n",
       "        0.000e+00, 0.000e+00, 0.000e+00, 0.000e+00, 0.000e+00, 0.000e+00,\n",
       "        0.000e+00, 0.000e+00, 0.000e+00, 0.000e+00, 0.000e+00, 0.000e+00,\n",
       "        0.000e+00, 0.000e+00, 0.000e+00, 0.000e+00, 0.000e+00, 0.000e+00,\n",
       "        0.000e+00, 0.000e+00, 0.000e+00, 0.000e+00, 0.000e+00, 1.000e+00,\n",
       "        0.000e+00, 0.000e+00, 0.000e+00, 0.000e+00, 0.000e+00, 0.000e+00,\n",
       "        0.000e+00, 0.000e+00, 0.000e+00, 0.000e+00, 0.000e+00, 0.000e+00,\n",
       "        0.000e+00, 0.000e+00, 0.000e+00, 0.000e+00, 0.000e+00, 0.000e+00,\n",
       "        0.000e+00, 0.000e+00, 0.000e+00, 0.000e+00, 0.000e+00, 0.000e+00,\n",
       "        0.000e+00, 0.000e+00, 0.000e+00, 0.000e+00, 0.000e+00, 0.000e+00,\n",
       "        0.000e+00, 0.000e+00, 0.000e+00, 1.000e+00]),\n",
       " array([  104.  ,   468.66,   833.32,  1197.98,  1562.64,  1927.3 ,\n",
       "         2291.96,  2656.62,  3021.28,  3385.94,  3750.6 ,  4115.26,\n",
       "         4479.92,  4844.58,  5209.24,  5573.9 ,  5938.56,  6303.22,\n",
       "         6667.88,  7032.54,  7397.2 ,  7761.86,  8126.52,  8491.18,\n",
       "         8855.84,  9220.5 ,  9585.16,  9949.82, 10314.48, 10679.14,\n",
       "        11043.8 , 11408.46, 11773.12, 12137.78, 12502.44, 12867.1 ,\n",
       "        13231.76, 13596.42, 13961.08, 14325.74, 14690.4 , 15055.06,\n",
       "        15419.72, 15784.38, 16149.04, 16513.7 , 16878.36, 17243.02,\n",
       "        17607.68, 17972.34, 18337.  , 18701.66, 19066.32, 19430.98,\n",
       "        19795.64, 20160.3 , 20524.96, 20889.62, 21254.28, 21618.94,\n",
       "        21983.6 , 22348.26, 22712.92, 23077.58, 23442.24, 23806.9 ,\n",
       "        24171.56, 24536.22, 24900.88, 25265.54, 25630.2 , 25994.86,\n",
       "        26359.52, 26724.18, 27088.84, 27453.5 , 27818.16, 28182.82,\n",
       "        28547.48, 28912.14, 29276.8 , 29641.46, 30006.12, 30370.78,\n",
       "        30735.44, 31100.1 , 31464.76, 31829.42, 32194.08, 32558.74,\n",
       "        32923.4 , 33288.06, 33652.72, 34017.38, 34382.04, 34746.7 ,\n",
       "        35111.36, 35476.02, 35840.68, 36205.34, 36570.  ]),\n",
       " <BarContainer object of 100 artists>)"
      ]
     },
     "execution_count": 8,
     "metadata": {},
     "output_type": "execute_result"
    },
    {
     "data": {
      "image/png": "[encoded data removed]",
      "text/plain": [
       "<Figure size 432x288 with 1 Axes>"
      ]
     },
     "metadata": {
      "needs_background": "light"
     },
     "output_type": "display_data"
    }
   ],
   "source": [
    "plt.hist(df.token_count, bins = 100)"
   ]
  },
  {
   "cell_type": "code",
   "execution_count": 22,
   "metadata": {},
   "outputs": [
    {
     "data": {
      "text/plain": [
       "(array([[6.400e+01, 8.712e+03, 1.990e+02, 5.000e+00, 0.000e+00, 0.000e+00,\n",
       "         0.000e+00, 1.000e+00, 1.000e+00, 0.000e+00, 2.000e+00, 0.000e+00,\n",
       "         3.000e+00, 0.000e+00, 1.000e+00, 2.000e+00, 0.000e+00, 0.000e+00,\n",
       "         0.000e+00, 0.000e+00, 0.000e+00, 0.000e+00, 0.000e+00, 0.000e+00,\n",
       "         0.000e+00, 0.000e+00, 0.000e+00, 0.000e+00, 0.000e+00, 0.000e+00,\n",
       "         0.000e+00, 0.000e+00, 0.000e+00],\n",
       "        [7.000e+01, 1.511e+03, 1.675e+03, 1.515e+03, 1.042e+03, 9.480e+02,\n",
       "         6.320e+02, 5.290e+02, 3.980e+02, 2.270e+02, 1.540e+02, 1.120e+02,\n",
       "         6.500e+01, 3.500e+01, 2.500e+01, 1.500e+01, 1.100e+01, 4.000e+00,\n",
       "         5.000e+00, 3.000e+00, 5.000e+00, 2.000e+00, 3.000e+00, 1.000e+00,\n",
       "         0.000e+00, 1.000e+00, 1.000e+00, 0.000e+00, 0.000e+00, 0.000e+00,\n",
       "         0.000e+00, 0.000e+00, 1.000e+00]]),\n",
       " array([ 0.,  1.,  2.,  3.,  4.,  5.,  6.,  7.,  8.,  9., 10., 11., 12.,\n",
       "        13., 14., 15., 16., 17., 18., 19., 20., 21., 22., 23., 24., 25.,\n",
       "        26., 27., 28., 29., 30., 31., 32., 33.]),\n",
       " <a list of 2 BarContainer objects>)"
      ]
     },
     "execution_count": 22,
     "metadata": {},
     "output_type": "execute_result"
    },
    {
     "data": {
      "image/png": "[encoded data removed]",
      "text/plain": [
       "<Figure size 432x288 with 1 Axes>"
      ]
     },
     "metadata": {
      "needs_background": "light"
     },
     "output_type": "display_data"
    }
   ],
   "source": [
    "plt.hist([df.gross_amount_maxval_distinct_count,df.gross_amount_75perc_distinct_count] , bins = 33)"
   ]
  },
  {
   "cell_type": "code",
   "execution_count": 23,
   "metadata": {},
   "outputs": [
    {
     "data": {
      "text/plain": [
       "(array([[1.000e+00, 1.060e+03, 1.577e+03, 4.179e+03, 1.550e+03, 1.600e+02,\n",
       "         3.800e+02, 5.000e+01, 2.500e+01, 1.000e+00, 0.000e+00, 4.000e+00,\n",
       "         0.000e+00, 1.000e+00, 0.000e+00, 0.000e+00, 2.000e+00, 0.000e+00,\n",
       "         0.000e+00, 0.000e+00, 0.000e+00, 0.000e+00, 0.000e+00, 0.000e+00,\n",
       "         0.000e+00, 0.000e+00, 0.000e+00],\n",
       "        [1.359e+03, 3.990e+02, 5.240e+02, 8.580e+02, 1.594e+03, 1.302e+03,\n",
       "         5.720e+02, 7.110e+02, 7.180e+02, 4.150e+02, 2.990e+02, 1.250e+02,\n",
       "         3.600e+01, 4.300e+01, 6.000e+00, 2.200e+01, 1.000e+00, 2.000e+00,\n",
       "         1.000e+00, 0.000e+00, 1.000e+00, 1.000e+00, 0.000e+00, 0.000e+00,\n",
       "         0.000e+00, 0.000e+00, 1.000e+00]]),\n",
       " array([ 0.,  1.,  2.,  3.,  4.,  5.,  6.,  7.,  8.,  9., 10., 11., 12.,\n",
       "        13., 14., 15., 16., 17., 18., 19., 20., 21., 22., 23., 24., 25.,\n",
       "        26., 27.]),\n",
       " <a list of 2 BarContainer objects>)"
      ]
     },
     "execution_count": 23,
     "metadata": {},
     "output_type": "execute_result"
    },
    {
     "data": {
      "image/png": "[encoded data removed]",
      "text/plain": [
       "<Figure size 432x288 with 1 Axes>"
      ]
     },
     "metadata": {
      "needs_background": "light"
     },
     "output_type": "display_data"
    }
   ],
   "source": [
    "plt.hist([df.advertiser_maxval_distinct_count,df.advertiser_75perc_distinct_count] , bins = 27)"
   ]
  },
  {
   "cell_type": "code",
   "execution_count": null,
   "metadata": {},
   "outputs": [],
   "source": []
  }
 ],
 "metadata": {
  "kernelspec": {
   "display_name": "Python 3",
   "language": "python",
   "name": "python3"
  },
  "language_info": {
   "codemirror_mode": {
    "name": "ipython",
    "version": 3
   },
   "file_extension": ".py",
   "mimetype": "text/x-python",
   "name": "python",
   "nbconvert_exporter": "python",
   "pygments_lexer": "ipython3",
   "version": "3.8.5"
  }
 },
 "nbformat": 4,
 "nbformat_minor": 4
}
